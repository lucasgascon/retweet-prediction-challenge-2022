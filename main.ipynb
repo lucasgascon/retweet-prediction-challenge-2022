{
 "cells": [
  {
   "cell_type": "code",
   "execution_count": null,
   "metadata": {},
   "outputs": [],
   "source": [
    "import preprocessing as process\n",
    "import prediction as pred"
   ]
  },
  {
   "cell_type": "markdown",
   "metadata": {},
   "source": [
    "process.main_processing()\n",
    "pred.main_prediction()"
   ]
  }
 ],
 "metadata": {
  "language_info": {
   "name": "python"
  },
  "orig_nbformat": 4
 },
 "nbformat": 4,
 "nbformat_minor": 2
}
